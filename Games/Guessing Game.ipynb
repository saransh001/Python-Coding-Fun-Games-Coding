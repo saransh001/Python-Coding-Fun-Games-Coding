{
 "cells": [
  {
   "cell_type": "markdown",
   "id": "e1fd6fab",
   "metadata": {},
   "source": [
    "## Guessing Game -: ##"
   ]
  },
  {
   "cell_type": "markdown",
   "id": "2504da71",
   "metadata": {},
   "source": [
    "#### 1. When we run the code programme going to randomly generate number between 1 to 100 which is jackpot number ###\n",
    "#### 2. For eg if jackpot not is 69 and we letting user to guess, if user guesses 20 , programme will say guess higher or lower. ###\n",
    "#### 3. If user guesses 69 then programme will say correct but you took 4 attempts. ### "
   ]
  },
  {
   "cell_type": "code",
   "execution_count": 1,
   "id": "025eec15",
   "metadata": {},
   "outputs": [],
   "source": [
    "import random"
   ]
  },
  {
   "cell_type": "code",
   "execution_count": 2,
   "id": "fecc6926",
   "metadata": {},
   "outputs": [
    {
     "data": {
      "text/plain": [
       "11"
      ]
     },
     "execution_count": 2,
     "metadata": {},
     "output_type": "execute_result"
    }
   ],
   "source": [
    "random.randint(1,100)"
   ]
  },
  {
   "cell_type": "code",
   "execution_count": 7,
   "id": "e0a76a9b",
   "metadata": {},
   "outputs": [
    {
     "name": "stdout",
     "output_type": "stream",
     "text": [
      "Try To Guess Number 55\n",
      "Guess Higher! \n",
      "Try To Guess Number 55\n",
      "Guess Higher! \n",
      "Try To Guess Number 555555\n",
      "Guess Lower\n",
      "Try To Guess Number 5\n",
      "Guess Higher! \n",
      "Try To Guess Number 50\n",
      "Guess Higher! \n",
      "Try To Guess Number 60\n",
      "Guess Higher! \n",
      "Try To Guess Number 70\n",
      "Guess Higher! \n",
      "Try To Guess Number 80\n",
      "Guess Higher! \n",
      "Try To Guess Number 90\n",
      "Guess Lower\n",
      "Try To Guess Number 85\n",
      "Guess Higher! \n",
      "Try To Guess Number 86\n",
      "Guess Higher! \n",
      "Try To Guess Number 87\n",
      "Wow! You Guessed Right Straight Away\n",
      "You took 12 Attempts\n"
     ]
    }
   ],
   "source": [
    "jackpot=random.randint(1,100)\n",
    "\n",
    "guess=int(input(\"Try To Guess Number \"))\n",
    "counter = 1 \n",
    "while guess != jackpot:\n",
    "    if guess < jackpot:\n",
    "        print(\"Guess Higher! \")\n",
    "    else:\n",
    "        print(\"Guess Lower\")\n",
    "    guess=int(input(\"Try To Guess Number \"))\n",
    "    counter += 1\n",
    "    \n",
    "print(\"Wow! You Guessed Right Straight Away\")\n",
    "print(\"You took\",counter,\"Attempts\")"
   ]
  },
  {
   "cell_type": "code",
   "execution_count": null,
   "id": "52419f7f",
   "metadata": {},
   "outputs": [],
   "source": []
  },
  {
   "cell_type": "code",
   "execution_count": null,
   "id": "d01d0241",
   "metadata": {},
   "outputs": [],
   "source": []
  }
 ],
 "metadata": {
  "kernelspec": {
   "display_name": "Python 3 (ipykernel)",
   "language": "python",
   "name": "python3"
  },
  "language_info": {
   "codemirror_mode": {
    "name": "ipython",
    "version": 3
   },
   "file_extension": ".py",
   "mimetype": "text/x-python",
   "name": "python",
   "nbconvert_exporter": "python",
   "pygments_lexer": "ipython3",
   "version": "3.9.13"
  }
 },
 "nbformat": 4,
 "nbformat_minor": 5
}
